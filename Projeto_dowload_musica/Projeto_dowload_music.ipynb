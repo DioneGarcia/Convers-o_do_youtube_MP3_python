{
 "cells": [
  {
   "cell_type": "code",
   "execution_count": 1,
   "id": "c70565a9",
   "metadata": {},
   "outputs": [],
   "source": [
    "'''\n",
    "    Instalando e importando as bibliotecas necessárias para conexão ao youtube \n",
    "    Preparando os arquivos para a instalação\n",
    "'''\n",
    "import os\n",
    "import subprocess\n",
    "import pytube \n",
    "from pytube import YouTube\n",
    "from tkinter import filedialog"
   ]
  },
  {
   "cell_type": "code",
   "execution_count": 2,
   "id": "67fcf58c",
   "metadata": {},
   "outputs": [
    {
     "name": "stdout",
     "output_type": "stream",
     "text": [
      "C:/Users/Dione _PC/Videos/4K Video Downloader\n"
     ]
    }
   ],
   "source": [
    "'''\n",
    "    Definindo o destino onde séra salvo as músicas \n",
    "'''\n",
    "#destino=input(\"Coloque o endereço da pasta destino:  \")\n",
    "#destino=destino.replace('\\\\' , '/')\n",
    "destino= filedialog.askdirectory()\n",
    "print(destino)"
   ]
  },
  {
   "cell_type": "code",
   "execution_count": 3,
   "id": "17004f73",
   "metadata": {},
   "outputs": [
    {
     "name": "stdout",
     "output_type": "stream",
     "text": [
      "Coloque o url da música:  https://www.youtube.com/watch?v=Xr5rBjZj34I\n",
      "<pytube.__main__.YouTube object: videoId=Xr5rBjZj34I>\n"
     ]
    },
    {
     "data": {
      "text/plain": [
       "'C:/Users/Dione _PC/Videos/4K Video Downloader\\\\Luan Santana - Minha Estrela Perdida (Vídeo Oficial).mp4'"
      ]
     },
     "execution_count": 3,
     "metadata": {},
     "output_type": "execute_result"
    }
   ],
   "source": [
    "'''Digitanto e adicionando o url que séra convertido \n",
    "   O url digitado e salvo na variável URL para que possa ser inserido \n",
    "   no processo de acesso e conversão\n",
    "'''\n",
    "url=input(\"Coloque o url da música:  \")\n",
    "'''\n",
    "    Logica do dowload\n",
    "'''\n",
    "# Cria o objeto YouTube com a URL da música\n",
    "yt = YouTube(url)\n",
    "print(yt)\n",
    "# Seleciona o primeiro vídeo disponível (em geral, a melhor qualidade)\n",
    "video = yt.streams.filter(only_audio=True).first()\n",
    "# Baixa o vídeo para a pasta de destino\n",
    "pasta_destino=destino\n",
    "video.download(pasta_destino)\n",
    "\n"
   ]
  },
  {
   "cell_type": "code",
   "execution_count": null,
   "id": "ebccf0ef",
   "metadata": {},
   "outputs": [],
   "source": []
  }
 ],
 "metadata": {
  "kernelspec": {
   "display_name": "Python 3 (ipykernel)",
   "language": "python",
   "name": "python3"
  },
  "language_info": {
   "codemirror_mode": {
    "name": "ipython",
    "version": 3
   },
   "file_extension": ".py",
   "mimetype": "text/x-python",
   "name": "python",
   "nbconvert_exporter": "python",
   "pygments_lexer": "ipython3",
   "version": "3.9.12"
  }
 },
 "nbformat": 4,
 "nbformat_minor": 5
}
